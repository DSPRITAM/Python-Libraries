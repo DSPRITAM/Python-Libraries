{
 "cells": [
  {
   "cell_type": "markdown",
   "metadata": {},
   "source": [
    "# File Handling "
   ]
  },
  {
   "cell_type": "code",
   "execution_count": 1,
   "metadata": {},
   "outputs": [
    {
     "name": "stdout",
     "output_type": "stream",
     "text": [
      "Welcome- File Handling.\n"
     ]
    }
   ],
   "source": [
    "print(\"Welcome- File Handling.\")"
   ]
  },
  {
   "cell_type": "code",
   "execution_count": 2,
   "metadata": {},
   "outputs": [],
   "source": [
    "# The key function for working with files in python is the open() function.\n",
    "# The open() takes 2 parameters: filename and mode.\n",
    "# There are 4 modes for opening a file.\n",
    "# 1.'r' : read mode.\n",
    "# 2.'a' : append mode.\n",
    "# 3.'w' : write mode.\n",
    "# 4.'x' : create mode."
   ]
  },
  {
   "cell_type": "code",
   "execution_count": 5,
   "metadata": {},
   "outputs": [],
   "source": [
    "# we will create a file in append mode.\n",
    "f = open(\"demo.txt\", 'a')\n",
    "\n",
    "# we will write in the demo.txt file as below.\n",
    "f.write(\"Hello, Welcome to file handling session.\")\n",
    "\n",
    "# once the operation is done, it is mandetory to close the file.\n",
    "f.close()"
   ]
  },
  {
   "cell_type": "code",
   "execution_count": 8,
   "metadata": {},
   "outputs": [
    {
     "name": "stdout",
     "output_type": "stream",
     "text": [
      "Hello, Welcome to file handling session.\n",
      "Thank for using me...\n",
      "You may have great user experience...\n"
     ]
    }
   ],
   "source": [
    "# Now we will read demo.txt file.\n",
    "f = open('demo.txt', 'r')\n",
    "print(f.read())\n",
    "f.close()"
   ]
  },
  {
   "cell_type": "code",
   "execution_count": 10,
   "metadata": {},
   "outputs": [
    {
     "name": "stdout",
     "output_type": "stream",
     "text": [
      "Hello, Wel\n"
     ]
    }
   ],
   "source": [
    "# Read only some part of the file.\n",
    "f = open('demo.txt' , 'r')\n",
    "print(f.read(10)) \n",
    "# it will print only first 10 characters in the file. "
   ]
  },
  {
   "cell_type": "code",
   "execution_count": 12,
   "metadata": {},
   "outputs": [
    {
     "name": "stdout",
     "output_type": "stream",
     "text": [
      "['Thank for using me...\\n']\n"
     ]
    }
   ],
   "source": [
    "print(f.readlines(2))\n",
    "# It returns the whole line in a list. "
   ]
  },
  {
   "cell_type": "code",
   "execution_count": 13,
   "metadata": {},
   "outputs": [
    {
     "name": "stdout",
     "output_type": "stream",
     "text": [
      "You may have great user experience...\n"
     ]
    }
   ],
   "source": [
    "print(f.readline())\n",
    "# read function keeps the track of read function. \n",
    "# so it will print the next line and forget the ones which already have read.\n"
   ]
  },
  {
   "cell_type": "code",
   "execution_count": 15,
   "metadata": {},
   "outputs": [
    {
     "name": "stdout",
     "output_type": "stream",
     "text": [
      "\n"
     ]
    }
   ],
   "source": [
    "print(f.readline())\n",
    "# it printing nothing bcoz there is nothing to print...\n",
    "f.close()"
   ]
  },
  {
   "cell_type": "code",
   "execution_count": 19,
   "metadata": {},
   "outputs": [
    {
     "name": "stdout",
     "output_type": "stream",
     "text": [
      "Hello, Welcome to file handling session.\n",
      "Thank for using me...\n",
      "You may have great user experience..."
     ]
    }
   ],
   "source": [
    "f = open('demo.txt' , 'r')\n",
    "\n",
    "for line in f:\n",
    "    print(line , end=\"\")\n",
    "# we can fetch the data using loop..\n",
    "\n",
    "f.close()"
   ]
  },
  {
   "cell_type": "markdown",
   "metadata": {},
   "source": [
    "### Write To an existing file "
   ]
  },
  {
   "cell_type": "code",
   "execution_count": 20,
   "metadata": {},
   "outputs": [],
   "source": [
    "# To write to in existing file we have 2 modes.\n",
    "# 'a' append mode, which will append the new data but keep the old data.\n",
    "#  'w' write mode, which will replace the new data with old ones."
   ]
  },
  {
   "cell_type": "code",
   "execution_count": 21,
   "metadata": {},
   "outputs": [],
   "source": [
    "f = open(\"demo.txt\" , 'a')\n",
    "f.write(\"\\nIts like a hard job to prepare for the coding interviews...\\nbut No worries i have to find the balance between the age and success..\")\n",
    "f.close()"
   ]
  },
  {
   "cell_type": "code",
   "execution_count": 23,
   "metadata": {},
   "outputs": [
    {
     "name": "stdout",
     "output_type": "stream",
     "text": [
      "Hello, Welcome to file handling session.\n",
      "Thank for using me...\n",
      "You may have great user experience...\n",
      "Its like a hard job to prepare for the coding interviews...\n",
      "but No worries i have to find the balance between the age and success..\n"
     ]
    }
   ],
   "source": [
    "# And now if we want to read it the ...\n",
    "f = open('demo.txt' , 'r')\n",
    "print(f.read())"
   ]
  },
  {
   "cell_type": "code",
   "execution_count": 24,
   "metadata": {},
   "outputs": [],
   "source": [
    "# but in write mode........\n",
    "f = open('demo.txt' , 'w')\n",
    "f.write(\"Hello, I am cristiano Ronaldo......\\nI am Preetam Kamble, I work for Facebook..\")\n",
    "f.close()"
   ]
  },
  {
   "cell_type": "code",
   "execution_count": 25,
   "metadata": {},
   "outputs": [
    {
     "name": "stdout",
     "output_type": "stream",
     "text": [
      "Hello, I am cristiano Ronaldo......\n",
      "I am Preetam Kamble, I work for Facebook..\n"
     ]
    }
   ],
   "source": [
    "# Now the old data is gone and only new data is there.\n",
    "f = open('demo.txt' , 'r')\n",
    "print(f.read())\n",
    "f.close()"
   ]
  },
  {
   "cell_type": "code",
   "execution_count": 26,
   "metadata": {},
   "outputs": [],
   "source": [
    "# Functions of different modes .. \n",
    "# 'a' : will create a file if not exists and append a data. \n",
    "# 'w' : will create a file if not exists and overwrite a data.\n",
    "# 'x' : will create a file and returns a error if file exists..."
   ]
  },
  {
   "cell_type": "code",
   "execution_count": 27,
   "metadata": {},
   "outputs": [
    {
     "ename": "FileExistsError",
     "evalue": "[Errno 17] File exists: 'demo.txt'",
     "output_type": "error",
     "traceback": [
      "\u001b[1;31m---------------------------------------------------------------------------\u001b[0m",
      "\u001b[1;31mFileExistsError\u001b[0m                           Traceback (most recent call last)",
      "Cell \u001b[1;32mIn[27], line 1\u001b[0m\n\u001b[1;32m----> 1\u001b[0m f \u001b[38;5;241m=\u001b[39m \u001b[38;5;28;43mopen\u001b[39;49m\u001b[43m(\u001b[49m\u001b[38;5;124;43m'\u001b[39;49m\u001b[38;5;124;43mdemo.txt\u001b[39;49m\u001b[38;5;124;43m'\u001b[39;49m\u001b[43m,\u001b[49m\u001b[43m \u001b[49m\u001b[38;5;124;43m'\u001b[39;49m\u001b[38;5;124;43mx\u001b[39;49m\u001b[38;5;124;43m'\u001b[39;49m\u001b[43m)\u001b[49m\n",
      "File \u001b[1;32mp:\\django\\venv\\lib\\site-packages\\IPython\\core\\interactiveshell.py:284\u001b[0m, in \u001b[0;36m_modified_open\u001b[1;34m(file, *args, **kwargs)\u001b[0m\n\u001b[0;32m    277\u001b[0m \u001b[38;5;28;01mif\u001b[39;00m file \u001b[38;5;129;01min\u001b[39;00m {\u001b[38;5;241m0\u001b[39m, \u001b[38;5;241m1\u001b[39m, \u001b[38;5;241m2\u001b[39m}:\n\u001b[0;32m    278\u001b[0m     \u001b[38;5;28;01mraise\u001b[39;00m \u001b[38;5;167;01mValueError\u001b[39;00m(\n\u001b[0;32m    279\u001b[0m         \u001b[38;5;124mf\u001b[39m\u001b[38;5;124m\"\u001b[39m\u001b[38;5;124mIPython won\u001b[39m\u001b[38;5;124m'\u001b[39m\u001b[38;5;124mt let you open fd=\u001b[39m\u001b[38;5;132;01m{\u001b[39;00mfile\u001b[38;5;132;01m}\u001b[39;00m\u001b[38;5;124m by default \u001b[39m\u001b[38;5;124m\"\u001b[39m\n\u001b[0;32m    280\u001b[0m         \u001b[38;5;124m\"\u001b[39m\u001b[38;5;124mas it is likely to crash IPython. If you know what you are doing, \u001b[39m\u001b[38;5;124m\"\u001b[39m\n\u001b[0;32m    281\u001b[0m         \u001b[38;5;124m\"\u001b[39m\u001b[38;5;124myou can use builtins\u001b[39m\u001b[38;5;124m'\u001b[39m\u001b[38;5;124m open.\u001b[39m\u001b[38;5;124m\"\u001b[39m\n\u001b[0;32m    282\u001b[0m     )\n\u001b[1;32m--> 284\u001b[0m \u001b[38;5;28;01mreturn\u001b[39;00m io_open(file, \u001b[38;5;241m*\u001b[39margs, \u001b[38;5;241m*\u001b[39m\u001b[38;5;241m*\u001b[39mkwargs)\n",
      "\u001b[1;31mFileExistsError\u001b[0m: [Errno 17] File exists: 'demo.txt'"
     ]
    }
   ],
   "source": [
    "f = open('demo.txt', 'x')\n",
    "# It will throw an error bcoz demo.txt exists.."
   ]
  },
  {
   "cell_type": "code",
   "execution_count": 38,
   "metadata": {},
   "outputs": [],
   "source": [
    "# but now it will create a new file bcoz it doesnt exists.\n",
    "f = open('Today.txt' , 'x')\n",
    "f.write(\"Hello, Todo list\")\n",
    "f.close()"
   ]
  },
  {
   "cell_type": "code",
   "execution_count": 39,
   "metadata": {},
   "outputs": [
    {
     "name": "stdout",
     "output_type": "stream",
     "text": [
      "Hello, Todo list\n"
     ]
    }
   ],
   "source": [
    "f = open('today.txt' , 'r')\n",
    "print(f.read())\n",
    "f.close()"
   ]
  },
  {
   "cell_type": "code",
   "execution_count": null,
   "metadata": {},
   "outputs": [],
   "source": []
  },
  {
   "cell_type": "markdown",
   "metadata": {},
   "source": [
    "## Delete Files "
   ]
  },
  {
   "cell_type": "code",
   "execution_count": 40,
   "metadata": {},
   "outputs": [],
   "source": [
    "# To  Remove the files we need to import the os module.. and run os.remove(filename)...\n",
    "\n",
    "import os \n",
    "\n",
    "os.remove('today.txt')\n",
    "# if its not exists then it will throw an error..."
   ]
  },
  {
   "cell_type": "code",
   "execution_count": 41,
   "metadata": {},
   "outputs": [
    {
     "name": "stdout",
     "output_type": "stream",
     "text": [
      "File nahi hai yaha....\n"
     ]
    }
   ],
   "source": [
    "#  To avoid getting an Error, We could do this.\n",
    "\n",
    "import os \n",
    "\n",
    "\n",
    "if os.path.exists('today.txt'):\n",
    "    os.remove('today.txt')\n",
    "else:\n",
    "    print(\"File nahi hai yaha....\")"
   ]
  },
  {
   "cell_type": "code",
   "execution_count": 42,
   "metadata": {},
   "outputs": [],
   "source": [
    "#  We can even delete a folder using rmdir...\n",
    "#   but u can only delete empty folders....\n",
    "\n",
    "import os \n",
    " \n",
    "os.rmdir('projects')"
   ]
  },
  {
   "cell_type": "code",
   "execution_count": 43,
   "metadata": {},
   "outputs": [
    {
     "name": "stdout",
     "output_type": "stream",
     "text": [
      "Already delete kiya hai...\n"
     ]
    }
   ],
   "source": [
    "# we can do the same for the folder also..\n",
    "\n",
    "if os.path.exists('projects'):\n",
    "    os.rmdir('projects')\n",
    "else:\n",
    "    print(\"Already delete kiya hai...\")"
   ]
  },
  {
   "cell_type": "markdown",
   "metadata": {},
   "source": [
    "##                               The end..."
   ]
  },
  {
   "cell_type": "markdown",
   "metadata": {},
   "source": []
  }
 ],
 "metadata": {
  "kernelspec": {
   "display_name": "Python 3",
   "language": "python",
   "name": "python3"
  },
  "language_info": {
   "codemirror_mode": {
    "name": "ipython",
    "version": 3
   },
   "file_extension": ".py",
   "mimetype": "text/x-python",
   "name": "python",
   "nbconvert_exporter": "python",
   "pygments_lexer": "ipython3",
   "version": "3.9.0"
  }
 },
 "nbformat": 4,
 "nbformat_minor": 2
}
