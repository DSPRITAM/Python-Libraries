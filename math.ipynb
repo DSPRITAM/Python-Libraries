{
 "cells": [
  {
   "cell_type": "markdown",
   "metadata": {},
   "source": [
    "# math "
   ]
  },
  {
   "cell_type": "code",
   "execution_count": 6,
   "metadata": {},
   "outputs": [
    {
     "name": "stdout",
     "output_type": "stream",
     "text": [
      "min value: 3\n",
      "max value : 69\n"
     ]
    }
   ],
   "source": [
    "# There are some default math functions in python...\n",
    "\n",
    "l = [22,66,12,56,3,45,69]\n",
    "\n",
    "print(\"min value:\",min(l))\n",
    "print(\"max value :\",max(l))"
   ]
  },
  {
   "cell_type": "code",
   "execution_count": 8,
   "metadata": {},
   "outputs": [
    {
     "name": "stdout",
     "output_type": "stream",
     "text": [
      "4.567\n"
     ]
    }
   ],
   "source": [
    "# abs() will print the absolute value.\n",
    "a = -4.567 \n",
    "print(abs(a))"
   ]
  },
  {
   "cell_type": "code",
   "execution_count": 9,
   "metadata": {},
   "outputs": [
    {
     "name": "stdout",
     "output_type": "stream",
     "text": [
      "1024\n"
     ]
    }
   ],
   "source": [
    "# It will print the power ...pow(value, power)\n",
    "b = pow(4,5)\n",
    "# 4 * 4 * 4 * 4 * 4\n",
    "print(b)"
   ]
  },
  {
   "cell_type": "code",
   "execution_count": 10,
   "metadata": {},
   "outputs": [
    {
     "name": "stdout",
     "output_type": "stream",
     "text": [
      "148.4131591025766\n"
     ]
    }
   ],
   "source": [
    "import math \n",
    "# To perform the math operations we need to import the math module first...\n",
    "\n",
    "x = math.exp(5)\n",
    "print(x)"
   ]
  },
  {
   "cell_type": "code",
   "execution_count": 13,
   "metadata": {},
   "outputs": [
    {
     "name": "stdout",
     "output_type": "stream",
     "text": [
      "Bydefault..It will give the float value... 5.0\n",
      "Now...It will give the int value :  5\n"
     ]
    }
   ],
   "source": [
    "a = math.sqrt(25)\n",
    "print(\"Bydefault..It will give the float value...\", a)\n",
    "\n",
    "print(\"Now...It will give the int value : \", int(a))"
   ]
  },
  {
   "cell_type": "code",
   "execution_count": 14,
   "metadata": {},
   "outputs": [
    {
     "name": "stdout",
     "output_type": "stream",
     "text": [
      "3\n"
     ]
    }
   ],
   "source": [
    "a = math.ceil(2.34)\n",
    "# It will go for next int value...\n",
    "\n",
    "print(a)\n"
   ]
  },
  {
   "cell_type": "code",
   "execution_count": 18,
   "metadata": {},
   "outputs": [
    {
     "name": "stdout",
     "output_type": "stream",
     "text": [
      "3\n",
      "and\n",
      "4\n"
     ]
    }
   ],
   "source": [
    "print(math.ceil(3.00000))\n",
    "print(\"and\")\n",
    "print(math.ceil(3.0000000001))"
   ]
  },
  {
   "cell_type": "code",
   "execution_count": 22,
   "metadata": {},
   "outputs": [
    {
     "name": "stdout",
     "output_type": "stream",
     "text": [
      "1\n",
      "1\n",
      "1\n"
     ]
    }
   ],
   "source": [
    "# floor function...It will go for prev int value...\n",
    "a = math.floor(1.1)\n",
    "print(a)\n",
    "\n",
    "\n",
    "a = math.floor(1.5)\n",
    "print(a)\n",
    "\n",
    "\n",
    "a = math.floor(1.9)\n",
    "print(a)"
   ]
  },
  {
   "cell_type": "code",
   "execution_count": 24,
   "metadata": {},
   "outputs": [
    {
     "name": "stdout",
     "output_type": "stream",
     "text": [
      "314.1592653589793\n"
     ]
    }
   ],
   "source": [
    "# pie function..\n",
    "# we the help of this function. we can calculate area...\n",
    "\n",
    "r = 10\n",
    "A = math.pi * (r**2)\n",
    "print(A)"
   ]
  },
  {
   "cell_type": "code",
   "execution_count": 25,
   "metadata": {},
   "outputs": [
    {
     "name": "stdout",
     "output_type": "stream",
     "text": [
      "3.141592653589793\n"
     ]
    }
   ],
   "source": [
    "x = math.pi \n",
    "print(x)"
   ]
  },
  {
   "cell_type": "code",
   "execution_count": 26,
   "metadata": {},
   "outputs": [
    {
     "name": "stdout",
     "output_type": "stream",
     "text": [
      "2.0\n"
     ]
    }
   ],
   "source": [
    "# log(argument)  returns the base 10 log of x.\n",
    "x = math.log10(100)\n",
    "print(x)"
   ]
  },
  {
   "cell_type": "code",
   "execution_count": null,
   "metadata": {},
   "outputs": [],
   "source": []
  },
  {
   "cell_type": "markdown",
   "metadata": {},
   "source": [
    "# Date-time "
   ]
  },
  {
   "cell_type": "code",
   "execution_count": 27,
   "metadata": {},
   "outputs": [
    {
     "name": "stdout",
     "output_type": "stream",
     "text": [
      "2024-08-14 18:39:29.596612\n"
     ]
    }
   ],
   "source": [
    "import datetime \n",
    "\n",
    "x = datetime.datetime.now()\n",
    "# It will print in ...\n",
    "# Year - month - day  hrs-min-sec-mlsec...\n",
    "\n",
    "print(x)"
   ]
  },
  {
   "cell_type": "code",
   "execution_count": 38,
   "metadata": {},
   "outputs": [
    {
     "name": "stdout",
     "output_type": "stream",
     "text": [
      "1\n",
      "2\n",
      "3\n",
      "4\n",
      "5\n",
      "6\n",
      "7\n",
      "8\n",
      "9\n",
      "10\n",
      "11\n",
      "12\n",
      "13\n",
      "14\n",
      "15\n",
      "16\n",
      "17\n",
      "18\n",
      "19\n",
      "20\n",
      "21\n",
      "22\n",
      "23\n",
      "24\n",
      "25\n",
      "26\n",
      "27\n",
      "28\n",
      "29\n",
      "30\n",
      "31\n",
      "32\n",
      "33\n",
      "34\n",
      "35\n",
      "36\n",
      "37\n",
      "38\n",
      "39\n",
      "40\n",
      "41\n",
      "42\n",
      "43\n",
      "44\n",
      "45\n",
      "46\n",
      "47\n",
      "48\n",
      "49\n",
      "50\n",
      "51\n",
      "52\n",
      "53\n",
      "54\n",
      "55\n",
      "56\n",
      "57\n",
      "58\n",
      "59\n",
      "60\n",
      "61\n",
      "62\n",
      "63\n",
      "64\n",
      "65\n",
      "66\n",
      "67\n",
      "68\n",
      "69\n",
      "70\n",
      "71\n",
      "72\n",
      "73\n",
      "74\n",
      "75\n",
      "76\n",
      "77\n",
      "78\n",
      "79\n",
      "80\n",
      "81\n",
      "82\n",
      "83\n",
      "84\n",
      "85\n",
      "86\n",
      "87\n",
      "88\n",
      "89\n",
      "90\n",
      "91\n",
      "92\n",
      "93\n",
      "94\n",
      "95\n",
      "96\n",
      "97\n",
      "98\n",
      "99\n",
      "The time taken to perform this operation is : 0:00:00.002881...\n"
     ]
    }
   ],
   "source": [
    "# we can calculate the time taken to perform a simple operation..\n",
    "\n",
    "start = datetime.datetime.now()\n",
    "\n",
    "for i in range(1,100):\n",
    "    print(i)\n",
    "\n",
    "print(f\"The time taken to perform this operation is : {datetime.datetime.now() - start}...\")"
   ]
  },
  {
   "cell_type": "code",
   "execution_count": 53,
   "metadata": {},
   "outputs": [
    {
     "name": "stdout",
     "output_type": "stream",
     "text": [
      "2024\n",
      "It will print a day: Wednesday\n",
      "It will print a day in short: Wed\n",
      "It will print a day as a number in that week- 0-6: 3\n",
      "It will print a day of month in a month.: 14\n",
      "It will print a name of the month in short: Aug\n",
      "It will print a name of the month: August\n",
      "It will print a name of the month as a number: 08\n",
      "It will print a name of the year in short: 24\n",
      "It will print a name of the year: 2024\n",
      "It will print a hours in 24 hrs format: 19\n",
      "It will print a hours in 12 hrs format: 07\n",
      "It will print a AM/PM: PM\n",
      "It will print a day in 365 days: 227\n",
      "It will print a local version of date and time: Wed Aug 14 19:02:02 2024\n"
     ]
    }
   ],
   "source": [
    "a = datetime.datetime.now()\n",
    "\n",
    "print(a.year)\n",
    "print(\"It will print a day:\", a.strftime(\"%A\"))\n",
    "print(\"It will print a day in short:\", a.strftime(\"%a\"))\n",
    "print(\"It will print a day as a number in that week- 0-6:\", a.strftime(\"%w\"))\n",
    "print(\"It will print a day of month in a month.:\", a.strftime(\"%d\"))\n",
    "print(\"It will print a name of the month in short:\", a.strftime(\"%b\"))\n",
    "print(\"It will print a name of the month:\", a.strftime(\"%B\"))\n",
    "print(\"It will print a name of the month as a number:\", a.strftime(\"%m\"))\n",
    "print(\"It will print a name of the year in short:\", a.strftime(\"%y\"))\n",
    "print(\"It will print a name of the year:\", a.strftime(\"%Y\"))\n",
    "print(\"It will print a hours in 24 hrs format:\", a.strftime(\"%H\"))\n",
    "print(\"It will print a hours in 12 hrs format:\", a.strftime(\"%I\"))\n",
    "print(\"It will print a AM/PM:\", a.strftime(\"%p\"))\n",
    "print(\"It will print a day in 365 days:\", a.strftime(\"%j\"))\n",
    "print(\"It will print a local version of date and time:\", a.strftime(\"%c\"))\n",
    "# There are many ways to extract specific data from datetime module..."
   ]
  },
  {
   "cell_type": "code",
   "execution_count": 55,
   "metadata": {},
   "outputs": [
    {
     "name": "stdout",
     "output_type": "stream",
     "text": [
      "It will print a local version of date and time: Wed Aug 14 19:02:02 2024\n",
      "It will print a day in 365 days: 227\n"
     ]
    }
   ],
   "source": [
    "# The most userfull are...\n",
    "print(\"It will print a local version of date and time:\", a.strftime(\"%c\"))\n",
    "print(\"It will print a day in 365 days:\", a.strftime(\"%j\"))\n",
    "\n",
    "\n"
   ]
  },
  {
   "cell_type": "code",
   "execution_count": 61,
   "metadata": {},
   "outputs": [
    {
     "name": "stdout",
     "output_type": "stream",
     "text": [
      "The sum is 72006000 and The total time taken :0:00:00.002396:\n"
     ]
    }
   ],
   "source": [
    "#  How to calculate the time taken to perform the task....\n",
    "\n",
    "def pp(n):\n",
    "    sum = 0 \n",
    "    start = datetime.datetime.now()\n",
    "    for num in range(n+1):\n",
    "        sum += num \n",
    "    \n",
    "    end = datetime.datetime.now()\n",
    "    return f\"The sum is {sum} and The total time taken :{end - start}:\"  \n",
    "\n",
    "\n",
    "a = pp(12000)\n",
    "print(a)"
   ]
  },
  {
   "cell_type": "code",
   "execution_count": null,
   "metadata": {},
   "outputs": [],
   "source": []
  },
  {
   "cell_type": "code",
   "execution_count": null,
   "metadata": {},
   "outputs": [],
   "source": []
  },
  {
   "cell_type": "code",
   "execution_count": null,
   "metadata": {},
   "outputs": [],
   "source": []
  },
  {
   "cell_type": "code",
   "execution_count": null,
   "metadata": {},
   "outputs": [],
   "source": []
  },
  {
   "cell_type": "code",
   "execution_count": null,
   "metadata": {},
   "outputs": [],
   "source": []
  },
  {
   "cell_type": "code",
   "execution_count": null,
   "metadata": {},
   "outputs": [],
   "source": []
  }
 ],
 "metadata": {
  "kernelspec": {
   "display_name": "Python 3",
   "language": "python",
   "name": "python3"
  },
  "language_info": {
   "codemirror_mode": {
    "name": "ipython",
    "version": 3
   },
   "file_extension": ".py",
   "mimetype": "text/x-python",
   "name": "python",
   "nbconvert_exporter": "python",
   "pygments_lexer": "ipython3",
   "version": "3.9.0"
  }
 },
 "nbformat": 4,
 "nbformat_minor": 2
}
