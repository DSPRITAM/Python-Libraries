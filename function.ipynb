{
 "cells": [
  {
   "cell_type": "code",
   "execution_count": 1,
   "metadata": {},
   "outputs": [
    {
     "name": "stdout",
     "output_type": "stream",
     "text": [
      "Function.\n"
     ]
    }
   ],
   "source": [
    "print(\"Function.\")"
   ]
  },
  {
   "cell_type": "code",
   "execution_count": 2,
   "metadata": {},
   "outputs": [
    {
     "name": "stdout",
     "output_type": "stream",
     "text": [
      "9\n"
     ]
    }
   ],
   "source": [
    "def sum(a,b):\n",
    "    return a + b\n",
    "\n",
    "a = sum(3,6)\n",
    "print(a)"
   ]
  },
  {
   "cell_type": "code",
   "execution_count": 3,
   "metadata": {},
   "outputs": [
    {
     "name": "stdout",
     "output_type": "stream",
     "text": [
      "99\n"
     ]
    }
   ],
   "source": [
    "def sum():\n",
    "    a = int(input(\"Enter a number : \"))\n",
    "    b = int(input(\"Enter b number : \"))\n",
    "    return a + b \n",
    "\n",
    "x = sum()\n",
    "print(x)"
   ]
  },
  {
   "cell_type": "code",
   "execution_count": 5,
   "metadata": {},
   "outputs": [
    {
     "name": "stdout",
     "output_type": "stream",
     "text": [
      "2\n",
      "223\n"
     ]
    }
   ],
   "source": [
    "def sub(a,b):\n",
    "    return a - b \n",
    "\n",
    "\n",
    "\n",
    "a = sub(7,5)\n",
    "print(a)\n",
    "\n",
    "x = 323\n",
    "b = sub(x , 100)  # we can pass a variable for argument.\n",
    "print(b)"
   ]
  },
  {
   "cell_type": "code",
   "execution_count": 6,
   "metadata": {},
   "outputs": [
    {
     "name": "stdout",
     "output_type": "stream",
     "text": [
      "Welcome to SBI!\n",
      "How may I help You ? \n"
     ]
    }
   ],
   "source": [
    "# To print something.\n",
    "\n",
    "def greet():\n",
    "    print(\"Welcome to SBI!\")\n",
    "    print(\"How may I help You ? \")\n",
    "\n",
    "\n",
    "greet()\n",
    "# if function is printing the value then we dont need to pass the functon into variable and then print it.\n",
    "\n"
   ]
  },
  {
   "cell_type": "code",
   "execution_count": 9,
   "metadata": {},
   "outputs": [
    {
     "name": "stdout",
     "output_type": "stream",
     "text": [
      "16\n",
      "49\n",
      "or we can do this.\n",
      "\n",
      "64\n"
     ]
    }
   ],
   "source": [
    "# To calculate square..\n",
    "\n",
    "def sqr(n):\n",
    "    return n ** 2\n",
    "\n",
    "\n",
    "\n",
    "a = sqr(4)\n",
    "print(a)\n",
    "\n",
    "\n",
    "b = sqr(7)\n",
    "print(b)\n",
    "\n",
    "print(\"or we can do this.\")\n",
    "print()\n",
    "\n",
    "print(sqr(8))"
   ]
  },
  {
   "cell_type": "code",
   "execution_count": 11,
   "metadata": {},
   "outputs": [
    {
     "name": "stdout",
     "output_type": "stream",
     "text": [
      "216\n",
      "or\n",
      "8\n"
     ]
    }
   ],
   "source": [
    "# for cube...\n",
    "def cube(n):\n",
    "    return n ** 3\n",
    "\n",
    "\n",
    "a = cube(6)\n",
    "print(a)\n",
    "\n",
    "print(\"or\")\n",
    "\n",
    "print(cube(2))"
   ]
  },
  {
   "cell_type": "code",
   "execution_count": 16,
   "metadata": {},
   "outputs": [
    {
     "name": "stdout",
     "output_type": "stream",
     "text": [
      "5\n",
      "10\n",
      "15\n",
      "20\n",
      "25\n",
      "30\n",
      "35\n",
      "40\n",
      "45\n",
      "50\n",
      "     or....\n",
      "12\n",
      "24\n",
      "36\n",
      "48\n",
      "60\n",
      "72\n",
      "84\n",
      "96\n",
      "108\n",
      "120\n"
     ]
    }
   ],
   "source": [
    "# create table...\n",
    "\n",
    "def table(n):\n",
    "    for i in range(1,11):\n",
    "        print(i * n)\n",
    "    \n",
    "\n",
    "a = table(5)\n",
    "a\n",
    "\n",
    "print(\"     or....\")\n",
    "\n",
    "x = 12 \n",
    "table(x)"
   ]
  },
  {
   "cell_type": "code",
   "execution_count": 18,
   "metadata": {},
   "outputs": [
    {
     "name": "stdout",
     "output_type": "stream",
     "text": [
      "Addition of 4 and 7 is : 11\n",
      "subtraction of 4 and 7 is : -3\n",
      "Multiplication of 4 and 7 is : 28\n",
      "Division of 4 and 7 is : 0.5714285714285714\n"
     ]
    }
   ],
   "source": [
    "def calculator():\n",
    "    a = int(input(\"Enter a number : \"))\n",
    "    b = int(input(\"Enter b number : \"))\n",
    "\n",
    "    print(f\"Addition of {a} and {b} is :\", a + b)\n",
    "    print(f\"subtraction of {a} and {b} is :\", a - b)\n",
    "    print(f\"Multiplication of {a} and {b} is :\", a * b)\n",
    "    print(f\"Division of {a} and {b} is :\", a / b)\n",
    "\n",
    "\n",
    "\n",
    "calculator() # No need to pass an argument."
   ]
  },
  {
   "cell_type": "code",
   "execution_count": 19,
   "metadata": {},
   "outputs": [
    {
     "name": "stdout",
     "output_type": "stream",
     "text": [
      "Welcome to SBI!\n",
      "How may I help You ? \n",
      "Addition of 8 and 4 is : 12\n",
      "subtraction of 8 and 4 is : 4\n",
      "Multiplication of 8 and 4 is : 32\n",
      "Division of 8 and 4 is : 2.0\n"
     ]
    }
   ],
   "source": [
    "# we can call function isnide another function.\n",
    "## Function Inside function.\n",
    "\n",
    "def calculator():\n",
    "    a = int(input(\"Enter a number : \"))\n",
    "    b = int(input(\"Enter b number : \"))\n",
    "\n",
    "    greet()  # this is another function that we passes into the function.\n",
    "\n",
    "    print(f\"Addition of {a} and {b} is :\", a + b)\n",
    "    print(f\"subtraction of {a} and {b} is :\", a - b)\n",
    "    print(f\"Multiplication of {a} and {b} is :\", a * b)\n",
    "    print(f\"Division of {a} and {b} is :\", a / b)\n",
    "\n",
    "\n",
    "\n",
    "calculator() # No need to pass an argument."
   ]
  },
  {
   "cell_type": "code",
   "execution_count": 22,
   "metadata": {},
   "outputs": [
    {
     "name": "stdout",
     "output_type": "stream",
     "text": [
      "25\n"
     ]
    }
   ],
   "source": [
    "def float_to_int(n):\n",
    "    return int(n)\n",
    "\n",
    "def sqr(n):\n",
    "    a = float_to_int(n)\n",
    "    print(a ** 2)\n",
    "\n",
    "sqr(5.10)"
   ]
  },
  {
   "cell_type": "code",
   "execution_count": 32,
   "metadata": {},
   "outputs": [
    {
     "name": "stdout",
     "output_type": "stream",
     "text": [
      "0.71\n"
     ]
    }
   ],
   "source": [
    "def div():\n",
    "    a = int(input(\"Enter a number : \"))\n",
    "    b = int(input(\"Enter b number : \"))\n",
    "\n",
    "    return f\"{(a / b):.2f}\"  # :.2f is for upto 2 decimal places.\n",
    "\n",
    "a = div()\n",
    "print(a)"
   ]
  },
  {
   "cell_type": "code",
   "execution_count": 39,
   "metadata": {},
   "outputs": [
    {
     "name": "stdout",
     "output_type": "stream",
     "text": [
      "mateerP\n"
     ]
    }
   ],
   "source": [
    "def reverse_str(s):\n",
    "     \n",
    "    return s[::-1]\n",
    "\n",
    "a = reverse_str(\"Preetam\")\n",
    "print(a)"
   ]
  },
  {
   "cell_type": "code",
   "execution_count": 41,
   "metadata": {},
   "outputs": [
    {
     "name": "stdout",
     "output_type": "stream",
     "text": [
      "('mateerP', 'elbmaK')\n"
     ]
    }
   ],
   "source": [
    "def rev(str):\n",
    "    first , last = str.split(\" \")\n",
    "    \n",
    "    return first[::-1], last[::-1]\n",
    "\n",
    "\n",
    "print(rev(\"Preetam Kamble\"))"
   ]
  },
  {
   "cell_type": "code",
   "execution_count": 43,
   "metadata": {},
   "outputs": [
    {
     "name": "stdout",
     "output_type": "stream",
     "text": [
      "28\n"
     ]
    }
   ],
   "source": [
    "def sum():\n",
    "    n = int(input(\"Enter a number : \"))\n",
    "    sum = 0 \n",
    "    for i in range(n+1):\n",
    "        sum += i\n",
    "    return sum\n",
    "\n",
    "\n",
    "a = sum()\n",
    "print(a)"
   ]
  },
  {
   "cell_type": "code",
   "execution_count": 46,
   "metadata": {},
   "outputs": [
    {
     "name": "stdout",
     "output_type": "stream",
     "text": [
      "720\n"
     ]
    }
   ],
   "source": [
    "def fact(n):\n",
    "    factt = 1 \n",
    "    for num in range(1, n + 1):\n",
    "        factt *= num\n",
    "    return factt \n",
    "\n",
    "a = fact(6)\n",
    "print(a)"
   ]
  },
  {
   "cell_type": "code",
   "execution_count": 48,
   "metadata": {},
   "outputs": [
    {
     "name": "stdout",
     "output_type": "stream",
     "text": [
      "44\n"
     ]
    }
   ],
   "source": [
    "def biggest(n):\n",
    "    big_num = n[0]\n",
    "    for num in n:\n",
    "        if num > big_num:\n",
    "            big_num = num \n",
    "    return big_num\n",
    "\n",
    "\n",
    "a = biggest([2,4,7,44,5,3,8])\n",
    "print(a)\n"
   ]
  },
  {
   "cell_type": "code",
   "execution_count": 50,
   "metadata": {},
   "outputs": [
    {
     "name": "stdout",
     "output_type": "stream",
     "text": [
      "2\n"
     ]
    }
   ],
   "source": [
    "def smallest(n):\n",
    "    small_num = n[0]\n",
    "    for num in n:\n",
    "        if num < small_num:\n",
    "            small_num = num \n",
    "    return small_num \n",
    "\n",
    "a = smallest([2,3,5,7,4,2,5,7])\n",
    "print(a)"
   ]
  },
  {
   "cell_type": "code",
   "execution_count": 58,
   "metadata": {},
   "outputs": [
    {
     "name": "stdout",
     "output_type": "stream",
     "text": [
      "Not Found\n"
     ]
    }
   ],
   "source": [
    "def find_n(l , n):\n",
    "    for i in l:\n",
    "        if i == n:\n",
    "            print(f\"{n} found at index {l.index(i)}.\")\n",
    "            break\n",
    "    else:\n",
    "        print(\"Not Found\")\n",
    "\n",
    "s\n",
    "find_n([2,3,4,5,6,7,33], 100)"
   ]
  },
  {
   "cell_type": "code",
   "execution_count": 60,
   "metadata": {},
   "outputs": [
    {
     "name": "stdout",
     "output_type": "stream",
     "text": [
      "1\n",
      "1\n",
      "2\n",
      "3\n",
      "5\n",
      "8\n",
      "13\n",
      "21\n"
     ]
    }
   ],
   "source": [
    "def fibb(n):\n",
    "    a = 0 \n",
    "    b = 1 \n",
    "    for num in range(n):\n",
    "        a , b = b , a + b \n",
    "        print(a)\n",
    "\n",
    "fibb(8)"
   ]
  },
  {
   "cell_type": "code",
   "execution_count": null,
   "metadata": {},
   "outputs": [],
   "source": []
  }
 ],
 "metadata": {
  "kernelspec": {
   "display_name": "Python 3",
   "language": "python",
   "name": "python3"
  },
  "language_info": {
   "codemirror_mode": {
    "name": "ipython",
    "version": 3
   },
   "file_extension": ".py",
   "mimetype": "text/x-python",
   "name": "python",
   "nbconvert_exporter": "python",
   "pygments_lexer": "ipython3",
   "version": "3.9.19"
  }
 },
 "nbformat": 4,
 "nbformat_minor": 2
}
